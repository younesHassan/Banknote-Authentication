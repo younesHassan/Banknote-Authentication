{
 "cells": [
  {
   "cell_type": "code",
   "execution_count": 27,
   "id": "8c9efe8c",
   "metadata": {},
   "outputs": [],
   "source": [
    "import numpy as np\n",
    "import pandas as pd\n",
    "from sklearn.model_selection import train_test_split\n",
    "from collections import Counter\n",
    "import matplotlib.pyplot as plt"
   ]
  },
  {
   "cell_type": "code",
   "execution_count": 51,
   "id": "b159b549",
   "metadata": {},
   "outputs": [
    {
     "data": {
      "text/html": [
       "<div>\n",
       "<style scoped>\n",
       "    .dataframe tbody tr th:only-of-type {\n",
       "        vertical-align: middle;\n",
       "    }\n",
       "\n",
       "    .dataframe tbody tr th {\n",
       "        vertical-align: top;\n",
       "    }\n",
       "\n",
       "    .dataframe thead th {\n",
       "        text-align: right;\n",
       "    }\n",
       "</style>\n",
       "<table border=\"1\" class=\"dataframe\">\n",
       "  <thead>\n",
       "    <tr style=\"text-align: right;\">\n",
       "      <th></th>\n",
       "      <th>Variance_WT</th>\n",
       "      <th>Skewness_WT</th>\n",
       "      <th>Curtosis_WT</th>\n",
       "      <th>Entropy</th>\n",
       "      <th>Class</th>\n",
       "    </tr>\n",
       "  </thead>\n",
       "  <tbody>\n",
       "    <tr>\n",
       "      <th>1</th>\n",
       "      <td>3.62160</td>\n",
       "      <td>8.6661</td>\n",
       "      <td>-2.80730</td>\n",
       "      <td>-0.44699</td>\n",
       "      <td>0</td>\n",
       "    </tr>\n",
       "    <tr>\n",
       "      <th>2</th>\n",
       "      <td>4.54590</td>\n",
       "      <td>8.1674</td>\n",
       "      <td>-2.45860</td>\n",
       "      <td>-1.46210</td>\n",
       "      <td>0</td>\n",
       "    </tr>\n",
       "    <tr>\n",
       "      <th>3</th>\n",
       "      <td>3.86600</td>\n",
       "      <td>-2.6383</td>\n",
       "      <td>1.92420</td>\n",
       "      <td>0.10645</td>\n",
       "      <td>0</td>\n",
       "    </tr>\n",
       "    <tr>\n",
       "      <th>4</th>\n",
       "      <td>3.45660</td>\n",
       "      <td>9.5228</td>\n",
       "      <td>-4.01120</td>\n",
       "      <td>-3.59440</td>\n",
       "      <td>0</td>\n",
       "    </tr>\n",
       "    <tr>\n",
       "      <th>5</th>\n",
       "      <td>0.32924</td>\n",
       "      <td>-4.4552</td>\n",
       "      <td>4.57180</td>\n",
       "      <td>-0.98880</td>\n",
       "      <td>0</td>\n",
       "    </tr>\n",
       "    <tr>\n",
       "      <th>6</th>\n",
       "      <td>4.36840</td>\n",
       "      <td>9.6718</td>\n",
       "      <td>-3.96060</td>\n",
       "      <td>-3.16250</td>\n",
       "      <td>0</td>\n",
       "    </tr>\n",
       "    <tr>\n",
       "      <th>7</th>\n",
       "      <td>3.59120</td>\n",
       "      <td>3.0129</td>\n",
       "      <td>0.72888</td>\n",
       "      <td>0.56421</td>\n",
       "      <td>0</td>\n",
       "    </tr>\n",
       "    <tr>\n",
       "      <th>8</th>\n",
       "      <td>2.09220</td>\n",
       "      <td>-6.8100</td>\n",
       "      <td>8.46360</td>\n",
       "      <td>-0.60216</td>\n",
       "      <td>0</td>\n",
       "    </tr>\n",
       "    <tr>\n",
       "      <th>9</th>\n",
       "      <td>3.20320</td>\n",
       "      <td>5.7588</td>\n",
       "      <td>-0.75345</td>\n",
       "      <td>-0.61251</td>\n",
       "      <td>0</td>\n",
       "    </tr>\n",
       "    <tr>\n",
       "      <th>10</th>\n",
       "      <td>1.53560</td>\n",
       "      <td>9.1772</td>\n",
       "      <td>-2.27180</td>\n",
       "      <td>-0.73535</td>\n",
       "      <td>0</td>\n",
       "    </tr>\n",
       "  </tbody>\n",
       "</table>\n",
       "</div>"
      ],
      "text/plain": [
       "    Variance_WT  Skewness_WT  Curtosis_WT  Entropy  Class\n",
       "1       3.62160       8.6661     -2.80730 -0.44699      0\n",
       "2       4.54590       8.1674     -2.45860 -1.46210      0\n",
       "3       3.86600      -2.6383      1.92420  0.10645      0\n",
       "4       3.45660       9.5228     -4.01120 -3.59440      0\n",
       "5       0.32924      -4.4552      4.57180 -0.98880      0\n",
       "6       4.36840       9.6718     -3.96060 -3.16250      0\n",
       "7       3.59120       3.0129      0.72888  0.56421      0\n",
       "8       2.09220      -6.8100      8.46360 -0.60216      0\n",
       "9       3.20320       5.7588     -0.75345 -0.61251      0\n",
       "10      1.53560       9.1772     -2.27180 -0.73535      0"
      ]
     },
     "execution_count": 51,
     "metadata": {},
     "output_type": "execute_result"
    }
   ],
   "source": [
    "col_names = ['Variance_WT', 'Skewness_WT', 'Curtosis_WT', 'Entropy', 'Class']\n",
    "data = pd.read_csv(\"../data_banknote_authentication_dataset.csv\", skiprows=1, header=None, names=col_names)\n",
    "data.head(10)"
   ]
  },
  {
   "cell_type": "code",
   "execution_count": 29,
   "id": "8750348f",
   "metadata": {},
   "outputs": [],
   "source": [
    "accuracy_dict = {}"
   ]
  },
  {
   "cell_type": "code",
   "execution_count": 30,
   "id": "5565fe43",
   "metadata": {},
   "outputs": [],
   "source": [
    "def accuracy(y_true, y_predicted):\n",
    "    accuracy = np.sum(y_true == y_predicted)/len(y_true)\n",
    "    return accuracy"
   ]
  },
  {
   "cell_type": "markdown",
   "id": "386c7703",
   "metadata": {},
   "source": [
    "# Decision Tree Classifier"
   ]
  },
  {
   "cell_type": "code",
   "execution_count": 31,
   "id": "0e5cc294",
   "metadata": {},
   "outputs": [],
   "source": [
    "X_decision_tree = data.iloc[:, :-1].values\n",
    "Y_decision_tree = data.iloc[:, -1].values\n",
    "X_train_decision_tree, X_test_decision_tree, y_train_decision_tree, y_test_decision_tree = train_test_split(X_decision_tree, Y_decision_tree, test_size=.2, random_state=1234)"
   ]
  },
  {
   "cell_type": "code",
   "execution_count": 32,
   "id": "97f177de",
   "metadata": {},
   "outputs": [],
   "source": [
    "#y = all the class label\n",
    "def entropy(y):\n",
    "    #to calculate the number of occurence of each class label\n",
    "    hist = np.bincount(y)\n",
    "    ps = hist / len(y)\n",
    "    \n",
    "    return -np.sum([p * np.log2(p) for p in ps if p > 0])"
   ]
  },
  {
   "cell_type": "code",
   "execution_count": 33,
   "id": "47229f1c",
   "metadata": {},
   "outputs": [],
   "source": [
    "class Node():\n",
    "    def __init__(self, feature = None, threshold = None, left = None, right = None, *, value = None):\n",
    "        self.feature = feature\n",
    "        self.threshold = threshold\n",
    "        self.left = left\n",
    "        self.right = right\n",
    "        self.value = value\n",
    "        \n",
    "    def is_leaf_node(self):\n",
    "        return self.value is not None"
   ]
  },
  {
   "cell_type": "code",
   "execution_count": 34,
   "id": "63cddb32",
   "metadata": {},
   "outputs": [],
   "source": [
    "class DecisionTree():\n",
    "    def __init__(self, min_sample_split = 2, max_depth = 100, no_of_features = None):\n",
    "        self.min_sample_split = min_sample_split\n",
    "        self.max_depth = max_depth\n",
    "        self.no_of_features = no_of_features\n",
    "        self.root = None\n",
    "        \n",
    "    def fit(self, X, y):\n",
    "        self.no_of_features = X.shape[1] if not self.no_of_features else min(self.no_of_features, X.shape[1])\n",
    "        self.root = self._grow_tree(X, y)\n",
    "    \n",
    "    def _grow_tree(self, X, y, depth = 0):\n",
    "        no_of_samples, no_of_features = X.shape\n",
    "        no_of_labels = len(np.unique(y))\n",
    "        \n",
    "        #checking for the stopping criteria\n",
    "        if(depth >= self.max_depth or no_of_labels == 1 or no_of_samples < self.min_sample_split):\n",
    "            leaf_value = self._most_common_label(y)\n",
    "            return Node(value = leaf_value)\n",
    "        \n",
    "        #Selecting an array of feature indices randomly from the given features\n",
    "        feature_index = np.random.choice(no_of_features, self.no_of_features, replace = False)\n",
    "        \n",
    "        #greedy search for best splitting criteria\n",
    "        best_feature, best_threshold = self._best_criteria(X, y, feature_index)\n",
    "        left_idxs, right_idxs = self._split(X[:, best_feature], best_threshold)\n",
    "        left = self._grow_tree(X[left_idxs, :], y[left_idxs], depth+1)\n",
    "        right = self._grow_tree(X[right_idxs, :], y[right_idxs], depth+1)\n",
    "        \n",
    "        return Node(best_feature, best_threshold, left, right)\n",
    "    \n",
    "    def _best_criteria(self, X, y, feat_idxs):\n",
    "        best_gain = -1\n",
    "        split_index, split_threshold = None, None\n",
    "        \n",
    "        for feat_idx in feat_idxs:\n",
    "            X_column = X[:, feat_idx]\n",
    "            thresholds = np.unique(X_column)\n",
    "            \n",
    "            for threshold in thresholds:\n",
    "                gain = self._information_gain(y, X_column, threshold)\n",
    "                \n",
    "                if gain > best_gain:\n",
    "                    best_gain = gain\n",
    "                    split_index = feat_idx\n",
    "                    split_threshold = threshold\n",
    "                    \n",
    "        return split_index, split_threshold\n",
    "    \n",
    "    def _information_gain(self, y, X_column, split_threshold):\n",
    "        #calculate the parents entropy\n",
    "        parent_entropy = entropy(y)\n",
    "        \n",
    "        #generate split\n",
    "        left_idxs, right_idxs = self._split(X_column, split_threshold)\n",
    "        \n",
    "        if len(left_idxs) == 0 or len(right_idxs) == 0:\n",
    "            return 0\n",
    "        \n",
    "        #calculate [weighted average]E(children)\n",
    "        n = len(y)\n",
    "        n_l, n_r = len(left_idxs), len(right_idxs)\n",
    "        e_l, e_r = entropy(y[left_idxs]), entropy(y[right_idxs])\n",
    "        child_entropy = (n_l/n)*e_l + (n_r/n)*e_r\n",
    "        \n",
    "        #return information gain = E(parent) - [weighted average]E(children)\n",
    "        information_gain = parent_entropy - child_entropy\n",
    "        \n",
    "        return information_gain\n",
    "        \n",
    "    def _split(self, X_column, split_threshold):\n",
    "        #gives an array of all the indices in X_column that follow the splitting criteria\n",
    "        left_idxs = np.argwhere(X_column <= split_threshold).flatten()\n",
    "        right_idxs = np.argwhere(X_column > split_threshold).flatten()\n",
    "        \n",
    "        return left_idxs, right_idxs\n",
    "        \n",
    "    def _most_common_label(self, y):\n",
    "        counter = Counter(y)\n",
    "        most_common = counter.most_common(1)[0][0]\n",
    "        return most_common\n",
    "        \n",
    "    def predict(self, X):\n",
    "        return np.array([self._traverse_tree(x, self.root) for x in X])\n",
    "    \n",
    "    def _traverse_tree(self, x, node):\n",
    "        if node.is_leaf_node():\n",
    "            return node.value\n",
    "        \n",
    "        if x[node.feature] <= node.threshold:\n",
    "            return self._traverse_tree(x, node.left)\n",
    "        \n",
    "        return self._traverse_tree(x, node.right)"
   ]
  },
  {
   "cell_type": "code",
   "execution_count": 35,
   "id": "d8ceed6f",
   "metadata": {},
   "outputs": [
    {
     "name": "stdout",
     "output_type": "stream",
     "text": [
      "Accuracy of Decision Tree: 1.0\n"
     ]
    }
   ],
   "source": [
    "Decision_Tree_Classifier = DecisionTree(max_depth = 10)\n",
    "Decision_Tree_Classifier.fit(X_train_decision_tree, y_train_decision_tree)\n",
    "y_predicted_decision_tree = Decision_Tree_Classifier.predict(X_test_decision_tree)\n",
    "accuracy_decision_tree = accuracy(y_test_decision_tree, y_predicted_decision_tree)\n",
    "\n",
    "accuracy_dict[1] = [\"Decision Tree\", accuracy_decision_tree]\n",
    "print(\"Accuracy of Decision Tree:\", accuracy_decision_tree)"
   ]
  },
  {
   "cell_type": "markdown",
   "id": "3a8493e8",
   "metadata": {},
   "source": [
    "# KNN Classifier"
   ]
  },
  {
   "cell_type": "code",
   "execution_count": 36,
   "id": "3e7249f2",
   "metadata": {},
   "outputs": [],
   "source": [
    "X_KNN = data.iloc[:,:4].values\n",
    "y_KNN = data.iloc[:,-1].values\n",
    "X_train_KNN, X_test_KNN, y_train_KNN, y_test_KNN = train_test_split(X_KNN, y_KNN, test_size = 0.2, random_state = 1234)"
   ]
  },
  {
   "cell_type": "code",
   "execution_count": 37,
   "id": "e65ce955",
   "metadata": {},
   "outputs": [],
   "source": [
    "def euclidean_distance(x1, x2):\n",
    "  return np.sqrt(np.sum(x1 - x2)**2)"
   ]
  },
  {
   "cell_type": "code",
   "execution_count": 38,
   "id": "0afa2f3a",
   "metadata": {},
   "outputs": [],
   "source": [
    "class KNN:\n",
    "  def __init__(self, k = 3):\n",
    "    self.k = k\n",
    "\n",
    "  def fit(self, X, y):\n",
    "    self.X_train = X\n",
    "    self.y_train = y\n",
    "\n",
    "  def predict(self, X):\n",
    "    predicted_labels = [self._predict(x) for x in X]\n",
    "    return np.array(predicted_labels)\n",
    "\n",
    "  def _predict(self, x):\n",
    "    distances = [euclidean_distance(x, x_train) for x_train in self.X_train]\n",
    "    k_indices = np.argsort(distances)[:self.k]\n",
    "    k_nearest_labels = [self.y_train[i] for i in k_indices]\n",
    "    most_common = Counter(k_nearest_labels).most_common(1)\n",
    "    return most_common[0][0]"
   ]
  },
  {
   "cell_type": "markdown",
   "id": "d9c36161",
   "metadata": {},
   "source": [
    "## For k = 3"
   ]
  },
  {
   "cell_type": "code",
   "execution_count": 39,
   "id": "4f96d382",
   "metadata": {},
   "outputs": [
    {
     "name": "stdout",
     "output_type": "stream",
     "text": [
      "Accuracy for k = 3 is : 0.9890909090909091\n"
     ]
    }
   ],
   "source": [
    "KNN_Classifier_3 = KNN(k = 3)\n",
    "KNN_Classifier_3.fit(X_train_KNN, y_train_KNN)\n",
    "y_predicted_KNN_3 = KNN_Classifier_3.predict(X_test_KNN)\n",
    "\n",
    "accuracy_KNN_3 = accuracy(y_test_KNN, y_predicted_KNN_3)\n",
    "\n",
    "accuracy_dict[2] = [\"KNN (k = 3)\", accuracy_KNN_3]\n",
    "print(\"Accuracy for k = 3 is :\", accuracy_KNN_3)"
   ]
  },
  {
   "cell_type": "markdown",
   "id": "7a5de2d9",
   "metadata": {},
   "source": [
    "## For k = 5 "
   ]
  },
  {
   "cell_type": "code",
   "execution_count": 40,
   "id": "bc3101cc",
   "metadata": {},
   "outputs": [
    {
     "name": "stdout",
     "output_type": "stream",
     "text": [
      "Accuracy of KNN for k = 5 is : 0.9890909090909091\n"
     ]
    }
   ],
   "source": [
    "KNN_Classifier_5 = KNN(k = 5)\n",
    "KNN_Classifier_5.fit(X_train_KNN, y_train_KNN)\n",
    "y_predicted_KNN_5 = KNN_Classifier_5.predict(X_test_KNN)\n",
    "\n",
    "accuracy_KNN_5 = accuracy(y_test_KNN, y_predicted_KNN_5)\n",
    "\n",
    "accuracy_dict[3] = [\"KNN (k = 5)\", accuracy_KNN_5]\n",
    "print(\"Accuracy of KNN for k = 5 is :\", accuracy_KNN_5)"
   ]
  },
  {
   "cell_type": "markdown",
   "id": "55984280",
   "metadata": {},
   "source": [
    "# Random Forest Classifier"
   ]
  },
  {
   "cell_type": "code",
   "execution_count": 41,
   "id": "d43ed8bf",
   "metadata": {},
   "outputs": [],
   "source": [
    "X_random_forest = data.iloc[:, :-1].values\n",
    "Y_random_forest = data.iloc[:, -1].values\n",
    "X_train_random_forest, X_test_random_forest, y_train_random_forest, y_test_random_forest = train_test_split(X_random_forest, Y_random_forest, test_size=.2, random_state=1234)"
   ]
  },
  {
   "cell_type": "code",
   "execution_count": 42,
   "id": "57d9f5ee",
   "metadata": {},
   "outputs": [],
   "source": [
    "def bootstrap_sample(X, y):\n",
    "    no_of_samples = X.shape[0] \n",
    "    indices = np.random.choice(no_of_samples, size=no_of_samples, replace=True)\n",
    "    \n",
    "    return X[indices], y[indices]"
   ]
  },
  {
   "cell_type": "code",
   "execution_count": 43,
   "id": "c970417a",
   "metadata": {},
   "outputs": [],
   "source": [
    "def most_common_label(y):\n",
    "    counter = Counter(y)\n",
    "    most_common = counter.most_common(1)[0][0]\n",
    "    return most_common"
   ]
  },
  {
   "cell_type": "code",
   "execution_count": 44,
   "id": "6f36eea4",
   "metadata": {},
   "outputs": [],
   "source": [
    "class RandomForest():\n",
    "    def __init__(self, no_of_trees=100, min_sample_split=2, max_depth=100, no_of_features=None):\n",
    "        self.no_of_trees = no_of_trees\n",
    "        self.min_sample_split = min_sample_split\n",
    "        self.max_depth = max_depth\n",
    "        self.no_of_features = no_of_features\n",
    "        self.trees = []\n",
    "    \n",
    "    def fit(self, X, y):\n",
    "        self.trees = []\n",
    "        for _ in range(self.no_of_trees):\n",
    "            tree = DecisionTree(min_sample_split = self.min_sample_split, max_depth = self.max_depth, no_of_features = self.no_of_features)\n",
    "            X_sample, y_sample = bootstrap_sample(X, y)\n",
    "            tree.fit(X_sample, y_sample)\n",
    "            self.trees.append(tree)\n",
    "            \n",
    "    def predict(self, X):\n",
    "        tree_predictions = np.array([tree.predict(X) for tree in self.trees])\n",
    "        tree_predictions = np.swapaxes(tree_predictions, 0, 1)\n",
    "        \n",
    "        y_predictions = [most_common_label(tree_prediction) for tree_prediction in tree_predictions]\n",
    "        \n",
    "        return np.array(y_predictions)"
   ]
  },
  {
   "cell_type": "code",
   "execution_count": 45,
   "id": "638078cd",
   "metadata": {},
   "outputs": [
    {
     "name": "stdout",
     "output_type": "stream",
     "text": [
      "Accuracy of Random Forest Classifier is : 1.0\n"
     ]
    }
   ],
   "source": [
    "Random_Forest_Classifier = RandomForest(no_of_trees = 3)\n",
    "Random_Forest_Classifier.fit(X_train_random_forest, y_train_random_forest)\n",
    "y_predicted_random_forest = Random_Forest_Classifier.predict(X_test_random_forest)\n",
    "\n",
    "accuracy_random_forest = accuracy(y_test_random_forest, y_predicted_random_forest)\n",
    "\n",
    "accuracy_dict[4] = [\"Random Forest\", accuracy_random_forest]\n",
    "print(\"Accuracy of Random Forest Classifier is :\", accuracy_random_forest)"
   ]
  },
  {
   "cell_type": "markdown",
   "id": "f56cb5bc",
   "metadata": {},
   "source": [
    "# Support Vector Machine"
   ]
  },
  {
   "cell_type": "code",
   "execution_count": 46,
   "id": "1e2808c9",
   "metadata": {},
   "outputs": [],
   "source": [
    "X_svm = data.iloc[:, :-1].values\n",
    "y_svm = data.iloc[:, -1].values\n",
    "X_train_svm, X_test_svm, y_train_svm, y_test_svm = train_test_split(X_svm, y_svm, test_size=.2, random_state=1234)\n",
    "y_svm = np.where(y_svm == 0, -1, 1)"
   ]
  },
  {
   "cell_type": "code",
   "execution_count": 47,
   "id": "799330a9",
   "metadata": {},
   "outputs": [],
   "source": [
    "class SVM:\n",
    "    def __init__(self, learning_rate=0.001, lambda_param=0.01, n_iters=1000):\n",
    "        self.lr = learning_rate\n",
    "        self.lambda_param = lambda_param\n",
    "        self.n_iters = n_iters\n",
    "        self.w = None\n",
    "        self.b = None\n",
    "\n",
    "    def fit(self, X, y):\n",
    "        n_samples, n_features = X.shape\n",
    "\n",
    "        y_ = np.where(y <= 0, -1, 1)\n",
    "\n",
    "        self.w = np.zeros(n_features)\n",
    "        self.b = 0\n",
    "\n",
    "        for _ in range(self.n_iters):\n",
    "            for idx, x_i in enumerate(X):\n",
    "                condition = y_[idx] * (np.dot(x_i, self.w) - self.b) >= 1\n",
    "                if condition:\n",
    "                    self.w -= self.lr * (2 * self.lambda_param * self.w)\n",
    "                else:\n",
    "                    self.w -= self.lr * (\n",
    "                        2 * self.lambda_param * self.w - np.dot(x_i, y_[idx])\n",
    "                    )\n",
    "                    self.b -= self.lr * y_[idx]\n",
    "\n",
    "    def predict(self, X):\n",
    "        approx = np.dot(X, self.w) - self.b\n",
    "        return np.sign(approx)\n",
    "\n",
    "    def accuracy(y_true, y_predicted):\n",
    "      accuracy = np.sum(y_true == y_predicted)/len(y_true)\n",
    "      return accuracy"
   ]
  },
  {
   "cell_type": "code",
   "execution_count": 48,
   "id": "eeed5698",
   "metadata": {},
   "outputs": [
    {
     "name": "stdout",
     "output_type": "stream",
     "text": [
      "[  0.78623833 -18.25253368 -17.07089718  -8.13591236   1.12979355] 77.07400000000396\n"
     ]
    },
    {
     "data": {
      "image/png": "[encoded data removed]",
      "text/plain": [
       "<Figure size 640x480 with 1 Axes>"
      ]
     },
     "metadata": {},
     "output_type": "display_data"
    }
   ],
   "source": [
    "clf = SVM()\n",
    "clf.fit(X_train_svm, y_train_svm)\n",
    "# predictions = clf.predict(X)\n",
    "\n",
    "print(clf.w, clf.b)\n",
    "\n",
    "def visualize_svm():\n",
    "    def get_hyperplane_value(x, w, b, offset):\n",
    "        return (-w[0] * x + b + offset) / w[1]\n",
    "\n",
    "    fig = plt.figure()\n",
    "    ax = fig.add_subplot(1, 1, 1)\n",
    "    plt.scatter(X_svm[:, 0], X_svm[:, 1], marker=\"o\", c=y_svm)\n",
    "\n",
    "    x0_1 = np.amin(X_svm[:, 0])\n",
    "    x0_2 = np.amax(X_svm[:, 0])\n",
    "\n",
    "    x1_1 = get_hyperplane_value(x0_1, clf.w, clf.b, 0)\n",
    "    x1_2 = get_hyperplane_value(x0_2, clf.w, clf.b, 0)\n",
    "\n",
    "    x1_1_m = get_hyperplane_value(x0_1, clf.w, clf.b, -1)\n",
    "    x1_2_m = get_hyperplane_value(x0_2, clf.w, clf.b, -1)\n",
    "\n",
    "    x1_1_p = get_hyperplane_value(x0_1, clf.w, clf.b, 1)\n",
    "    x1_2_p = get_hyperplane_value(x0_2, clf.w, clf.b, 1)\n",
    "\n",
    "    ax.plot([x0_1, x0_2], [x1_1, x1_2], \"y--\")\n",
    "    ax.plot([x0_1, x0_2], [x1_1_m, x1_2_m], \"k\")\n",
    "    ax.plot([x0_1, x0_2], [x1_1_p, x1_2_p], \"k\")\n",
    "\n",
    "    x1_min = np.amin(X_svm[:, 1])\n",
    "    x1_max = np.amax(X_svm[:, 1])\n",
    "    ax.set_ylim([x1_min - 3, x1_max + 3])\n",
    "\n",
    "    plt.show()\n",
    "\n",
    "visualize_svm()"
   ]
  },
  {
   "cell_type": "code",
   "execution_count": 49,
   "id": "af3ee0c2",
   "metadata": {},
   "outputs": [
    {
     "name": "stdout",
     "output_type": "stream",
     "text": [
      "Accuracy of SVM Classifier is : 0.41818181818181815\n"
     ]
    }
   ],
   "source": [
    "SVM_Classifier = SVM()\n",
    "SVM_Classifier.fit(X_train_svm, y_train_svm)\n",
    "y_predicted_svm = SVM_Classifier.predict(X_test_svm)\n",
    "\n",
    "accuracy_svm = accuracy(y_test_svm, y_predicted_svm)\n",
    "\n",
    "accuracy_dict[5] = [\"Support Vector Machine\", accuracy_svm]\n",
    "print(\"Accuracy of SVM Classifier is :\", accuracy_svm)"
   ]
  },
  {
   "cell_type": "markdown",
   "id": "7ae631f2",
   "metadata": {},
   "source": [
    "# Tabulated Result"
   ]
  },
  {
   "cell_type": "code",
   "execution_count": 50,
   "id": "cfc8e3d3",
   "metadata": {},
   "outputs": [
    {
     "name": "stdout",
     "output_type": "stream",
     "text": [
      "Sr. No.         Algorithm                 Accuracy\n",
      "1               Decision Tree             100.0%\n",
      "2               KNN (k = 3)               98.91%\n",
      "3               KNN (k = 5)               98.91%\n",
      "4               Random Forest             100.0%\n",
      "5               Support Vector Machine    41.82%\n"
     ]
    }
   ],
   "source": [
    "print (\"{:<15} {:<25} {}\".format(\"Sr. No.\", \"Algorithm\", \"Accuracy\"))\n",
    "\n",
    "for key, value in accuracy_dict.items():\n",
    "    algorithm, accuracy = value\n",
    "    print (\"{:<15} {:<25} {}%\".format(key, algorithm, round(accuracy*100, 2)))"
   ]
  },
  {
   "cell_type": "code",
   "execution_count": null,
   "id": "0aaf1a2e",
   "metadata": {},
   "outputs": [],
   "source": []
  }
 ],
 "metadata": {
  "kernelspec": {
   "display_name": "Python 3",
   "language": "python",
   "name": "python3"
  },
  "language_info": {
   "codemirror_mode": {
    "name": "ipython",
    "version": 3
   },
   "file_extension": ".py",
   "mimetype": "text/x-python",
   "name": "python",
   "nbconvert_exporter": "python",
   "pygments_lexer": "ipython3",
   "version": "3.10.11"
  }
 },
 "nbformat": 4,
 "nbformat_minor": 5
}
